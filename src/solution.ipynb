{
 "cells": [
  {
   "cell_type": "code",
   "execution_count": 34,
   "metadata": {},
   "outputs": [],
   "source": [
    "from dataclasses import dataclass\n",
    "from enum import Enum, auto\n",
    "from pathlib import Path\n",
    "from typing import Any, Callable\n",
    "import datetime\n",
    "import os\n",
    "\n",
    "name = value = other = 0  # Ignore this line, it's just to make the linter happy"
   ]
  },
  {
   "cell_type": "markdown",
   "metadata": {},
   "source": [
    "# Classy Python\n",
    "\n",
    "Here we will be covering some aspects of Object Oriented Programming with Python. In each cell, there will be some code for you to implement followed by some tests. You will need to edit the code in each cell above `## Tests`.\n",
    "\n",
    "The [`assert`](https://docs.python.org/3/reference/simple_stmts.html#the-assert-statement) statments are often used in [pytest](https://docs.pytest.org/), but can also be used in your code. A false `assert` statement will immediately stop execution. While it's not necessarily good practice to use `assert` to control execution because it [can be overridden](https://docs.python.org/3/using/cmdline.html#cmdoption-O) at runtime, it's fine to use for learning.\n",
    "\n",
    "In the tests of the cell below you will see a variable `pyrva`. Running the cell without editing it should show an error on the line\n",
    "\n",
    "```py\n",
    "assert pyrva.awesomeness == 11\n",
    "```\n",
    "\n",
    "Update the code so the one test passes. Next you'll see the error on\n",
    "\n",
    "```py\n",
    "assert False\n",
    "```\n",
    "\n",
    "Change this to `True` and you'll see the message\n",
    "\n",
    "```py\n",
    "'All tests passed!'\n",
    "```\n",
    "\n",
    "**In general, you should not need to adjust the tests unless otherwise indicated by `# <<<`.**\n"
   ]
  },
  {
   "cell_type": "code",
   "execution_count": null,
   "metadata": {},
   "outputs": [],
   "source": [
    "class PyRVA:\n",
    "    \"\"\"The best in class!\"\"\"\n",
    "\n",
    "    # You can define properties like normal variables\n",
    "    awesomeness: int = 11  # <<< awesomeness: int = 0  # <<< Change to 11\n",
    "\n",
    "    # You can define methods like normal functions, just include the `self` parameter\n",
    "    def organizers(self):\n",
    "        \"\"\"The ABCs of any good organization!\"\"\"\n",
    "        return [\"Adam\", \"Brian\", \"Chris\"]\n",
    "\n",
    "\n",
    "## Tests\n",
    "pyrva = PyRVA()\n",
    "assert pyrva.awesomeness == 11\n",
    "assert len(pyrva.organizers()) == 3\n",
    "\n",
    "assert True  # <<< assert False  # <<< Change to True\n",
    "\"All tests passed!\""
   ]
  },
  {
   "cell_type": "markdown",
   "metadata": {},
   "source": [
    "Now that you know how to change the code and the tests, let's get classy!\n"
   ]
  },
  {
   "cell_type": "markdown",
   "metadata": {},
   "source": [
    "## Basic Classes\n",
    "\n",
    "[Quick primer on classes in Python](https://docs.python.org/3/tutorial/classes.html)\n",
    "\n",
    "Everything in Python is technically an object even a simple integer has methods. To see what attributes and methods are available, use the [`dir()`](https://docs.python.org/3/library/functions.html#dir) built-in function.\n"
   ]
  },
  {
   "cell_type": "code",
   "execution_count": null,
   "metadata": {},
   "outputs": [],
   "source": [
    "dir(42)"
   ]
  },
  {
   "cell_type": "markdown",
   "metadata": {},
   "source": [
    "If we look at our `PyRVA` class, you'll see that you can find the `awesomeness` variable and `organizers` method. (The list comprehension just removes the clutter.)\n"
   ]
  },
  {
   "cell_type": "code",
   "execution_count": null,
   "metadata": {},
   "outputs": [],
   "source": [
    "[item for item in dir(PyRVA) if not item.startswith(\"__\")]"
   ]
  },
  {
   "cell_type": "markdown",
   "metadata": {},
   "source": [
    "Now we look at a basic class. Here is a class `Rectangle` that takes a `width` and `height` parameter. These parameters are inherit to the instance of the rectangle, but we also have computed properties such as `area` and `perimeter`.\n",
    "\n",
    "Note, the methods all have the first argument `self`. This is merely a convention and the name `self` is not significant, but if you want your future self to understand what you wrote, then it might be good to follow this convention.\n",
    "\n",
    "For functions that return a computed property, you can mark these as [properties](https://docs.python.org/3/library/functions.html#property) so they are called just like the `width` and `height` attributes. ([Additional notes on properties](https://docs.python.org/3/howto/descriptor.html))\n",
    "\n",
    "Tasks:\n",
    "\n",
    "1. Update the `__init__` constructor method so the `Rectangle` class will retain the `width` and `height`\n",
    "2. Update the `area` and `perimeter` fuctions to be properties.\n"
   ]
  },
  {
   "cell_type": "code",
   "execution_count": null,
   "metadata": {},
   "outputs": [],
   "source": [
    "class Rectangle:\n",
    "\n",
    "    def __init__(self, width, height):  # <<< def __init__(self):\n",
    "        self.width = width  # <<< ...\n",
    "        self.height = height  # <<<\n",
    "\n",
    "    @property  # <<<\n",
    "    def area(self):\n",
    "        return self.width * self.height\n",
    "\n",
    "    @property  # <<<\n",
    "    def perimeter(self):\n",
    "        return 2 * (self.width + self.height)\n",
    "\n",
    "    def add_padding(self, pad_width, pad_height):\n",
    "        self.width += pad_width\n",
    "        self.height += pad_height\n",
    "\n",
    "\n",
    "## Tests\n",
    "r = Rectangle(2, 3)\n",
    "assert r.width == 2\n",
    "assert r.height == 3\n",
    "# Note, these are really functions, but are called the same way as other attributes\n",
    "assert r.area == 6\n",
    "assert r.perimeter == 10\n",
    "\n",
    "# This is a method, so it's called with parentheses\n",
    "r.add_padding(1, 1)\n",
    "assert r.area == 12\n",
    "assert r.perimeter == 14\n",
    "\"All tests passed!\""
   ]
  },
  {
   "cell_type": "markdown",
   "metadata": {},
   "source": [
    "## Printing classes\n",
    "\n",
    "Sometimes you want to print your object. The `print()` function will ask your class for a string representation. If you have not defined what this looks like, you will get an unhelpful printout like:\n",
    "\n",
    "```\n",
    "<__main__.MyClassName object at 0x7f4e4c8574d0>\n",
    "```\n",
    "\n",
    "Often, we will want a nice and easy to read representation which is where [`str()`](https://docs.python.org/3/library/functions.html#func-str) comes into play. However, sometimes we want a more programatic []`repr`esneation](https://docs.python.org/3/library/functions.html#repr). The `repr` should provide something that could be passed to [`eval()`](https://docs.python.org/3/library/functions.html#eval) and yield a valid object.\n",
    "\n",
    "Lets take a look at a `datetime` object:\n"
   ]
  },
  {
   "cell_type": "code",
   "execution_count": null,
   "metadata": {},
   "outputs": [],
   "source": [
    "# https://stackoverflow.com/questions/1436703/what-is-the-difference-between-str-and-repr\n",
    "\n",
    "now = datetime.datetime.now()\n",
    "\n",
    "print(str(now))\n",
    "print(now)  # Calls str() implicitly\n",
    "print(repr(now))"
   ]
  },
  {
   "cell_type": "markdown",
   "metadata": {},
   "source": [
    "Implement the `str` and `repr` functions to provide a nice representation of the `Circle` class\n"
   ]
  },
  {
   "cell_type": "code",
   "execution_count": 2,
   "metadata": {},
   "outputs": [
    {
     "data": {
      "text/plain": [
       "'All tests passed!'"
      ]
     },
     "execution_count": 2,
     "metadata": {},
     "output_type": "execute_result"
    }
   ],
   "source": [
    "class Circle:\n",
    "    \"\"\"The circle class.\"\"\"\n",
    "\n",
    "    def __init__(self, radius):\n",
    "        self.radius = radius\n",
    "\n",
    "    def __str__(self):  # <<< def func1(self):\n",
    "        \"\"\"Should provide an easy to read representation of the object\"\"\"\n",
    "        return f\"radius = {self.radius}\"  # <<< return\n",
    "\n",
    "    def __repr__(self):  # <<< def func2(self):\n",
    "        \"\"\"Should provide an unambiguous representation of the object\"\"\"\n",
    "        return f\"Circle({self.radius})\"  # <<< return\n",
    "\n",
    "\n",
    "## Tests\n",
    "c = Circle(3)\n",
    "assert c.__doc__ == \"The circle class.\"\n",
    "assert str(c) == \"radius = 3\"\n",
    "assert repr(c) == \"Circle(3)\"\n",
    "\"All tests passed!\""
   ]
  },
  {
   "cell_type": "markdown",
   "metadata": {},
   "source": [
    "## Public, Protected, Private\n",
    "\n",
    "Python likes to use underscores (`_`) for [a lot of things](https://realpython.com/python-double-underscore/), not just in using [snake_case](https://en.wikipedia.org/wiki/Snake_case) for its variable names.\n",
    "\n",
    "- `c.__doc__`: Double underscores (dunders) are used for a bunch of magic methods in Python\n",
    "- `[🐍 for _ in range(3)]`: The underscore indicates that we're not using the value from `range(3)`\n",
    "- `_variable`: The underscore indicates that this variable is only intened to be used in the current scope\n",
    "- `variable_`: The underscore is used to avoid name clashes.\n",
    "- `__variable`: The dunder is used to trigger name mangling in the class\n",
    "\n",
    "Armed with these tricks, you can control what variables should and shoudn't be accessed from outside the class. Just because something isn't intended to be accessed, doesn't mean you can't still access it though.\n"
   ]
  },
  {
   "cell_type": "code",
   "execution_count": null,
   "metadata": {},
   "outputs": [],
   "source": [
    "class Scopes:\n",
    "    public = \"public\"\n",
    "    _protected = \"protected\"\n",
    "    __private = \"private\"\n",
    "\n",
    "\n",
    "## Tests\n",
    "assert Scopes.public == \"public\"\n",
    "assert Scopes._protected == \"protected\"\n",
    "assert (  # <<<\n",
    "    Scopes._Scopes__private == \"private\"  # <<<\n",
    ")  # <<< assert Scopes.__private == \"private\" # <<<\n",
    "\n",
    "\"All tests passed!\""
   ]
  },
  {
   "cell_type": "markdown",
   "metadata": {},
   "source": [
    "## Managing Attributes\n",
    "\n",
    "Now you know how to communicate that certain variables should or shouldn't be accessible, it's time to play around with controlling how they get accessed. There are two ways to do this.\n",
    "\n",
    "1. First, you can use some magic methods. These magic methods will control how **all** the variables are accessed.\n",
    "2. Second, you can use decorators to create functions specifically for controlling the setting/getting/deleting of a specific atribute.\n",
    "\n",
    "The best method will depend on the needs of the project, so let's explore both.\n",
    "\n",
    "Make [Hal](https://en.wikipedia.org/wiki/HAL_9000) complete by using the appropriate dunder methods to manage access to variables.\n"
   ]
  },
  {
   "cell_type": "code",
   "execution_count": 25,
   "metadata": {},
   "outputs": [
    {
     "data": {
      "text/plain": [
       "'All tests passed!'"
      ]
     },
     "execution_count": 25,
     "metadata": {},
     "output_type": "execute_result"
    }
   ],
   "source": [
    "class Hal:\n",
    "\n",
    "    pod_bay_doors_open: bool = False\n",
    "    oxygen_levels: int = 21\n",
    "    password: str = \"2001\"\n",
    "\n",
    "    def __setattr__(  # <<< def __func1__(self) -> None:\n",
    "        self, name: str, value: Any  # <<<\n",
    "    ) -> None:  # <<<\n",
    "\n",
    "        if name == \"pod_bay_doors_open\":\n",
    "            raise ValueError(\"I'm sorry, Dave. I'm afraid I can't do that.\")\n",
    "\n",
    "        elif name == \"oxygen_levels\" and not 15 < value < 30:\n",
    "            value = min(30, max(15, value))\n",
    "\n",
    "        super().__setattr__(name, value)  # <<<\n",
    "\n",
    "    def __getattribute__(self, name: str) -> Any:  # <<< def __func2__(self) -> Any:\n",
    "\n",
    "        if name == \"password\":\n",
    "            return \"I'm sorry, Dave. That information is classified.\"\n",
    "\n",
    "        return super().__getattribute__(name)  # <<<\n",
    "\n",
    "    def __getattr__(self, name: str) -> Any:  # <<< def __func3__(self) -> Any:\n",
    "        \"\"\"Only called when the above function fails to find the attribute.\"\"\"\n",
    "        return 0\n",
    "\n",
    "\n",
    "## Tests\n",
    "hal = Hal()\n",
    "assert \"classified\" in hal.password\n",
    "\n",
    "hal.oxygen_levels = 22\n",
    "assert hal.oxygen_levels == 22\n",
    "\n",
    "hal.oxygen_levels = 10\n",
    "assert hal.oxygen_levels == 15\n",
    "\n",
    "try:\n",
    "    hal.pod_bay_doors_open = True\n",
    "except ValueError as e:\n",
    "    pass\n",
    "assert hal.pod_bay_doors_open == False\n",
    "\n",
    "assert hal.water_levels == 0\n",
    "\"All tests passed!\""
   ]
  },
  {
   "cell_type": "markdown",
   "metadata": {},
   "source": [
    "Now use the decorator approach to manage access to the `prop` attribute.\n"
   ]
  },
  {
   "cell_type": "code",
   "execution_count": 15,
   "metadata": {},
   "outputs": [
    {
     "data": {
      "text/plain": [
       "'All tests passed!'"
      ]
     },
     "execution_count": 15,
     "metadata": {},
     "output_type": "execute_result"
    }
   ],
   "source": [
    "class DecoratedAttrs:\n",
    "\n",
    "    _prop = None  # <<< prop = None\n",
    "\n",
    "    @property  # <<<\n",
    "    def prop(self):  # <<< def func1(self):\n",
    "        return self._prop  # <<< return self.prop\n",
    "\n",
    "    @prop.setter  # <<<\n",
    "    def prop(self, value):  # <<< def func2(self):\n",
    "        self._prop = value  # <<< self.prop = value\n",
    "\n",
    "    @prop.deleter  # <<<\n",
    "    def prop(self):  # <<< def func3(self):\n",
    "        del self._prop  # <<< del self.prop\n",
    "\n",
    "\n",
    "## Tests\n",
    "da = DecoratedAttrs()\n",
    "da.prop = \"value\"  # Setter\n",
    "\n",
    "assert da.prop == \"value\"  # Getter\n",
    "assert da._prop == \"value\"  # Direct access\n",
    "\n",
    "del da.prop  # Deleter\n",
    "\n",
    "assert da.prop == None  # Getter\n",
    "assert da._prop == None  # Direct access\n",
    "\"All tests passed!\""
   ]
  },
  {
   "cell_type": "markdown",
   "metadata": {},
   "source": [
    "One last thing to do with controlling attribute access is to use `slots`. When an object is created, Python will create a `__dict__` to manage all the attributes. If you want to prevent someone from adding new variables, you can define what is permitted via `slots`. This will also give you an efficency boost in terms of memory allocation and access speed. This will also raise errors if the user misspells an attribute like `colour` or [`parametrize](https://docs.pytest.org/en/7.1.x/how-to/parametrize.html).\n",
    "\n",
    "In the next cell, you can see that we tell `Hal` that he should have a new parameter `shutdown` even though it was not defined in the class above.\n"
   ]
  },
  {
   "cell_type": "code",
   "execution_count": 26,
   "metadata": {},
   "outputs": [],
   "source": [
    "Hal.shutdown = True"
   ]
  },
  {
   "cell_type": "markdown",
   "metadata": {},
   "source": [
    "Edit the `Casino` class to make use of `slots`.\n"
   ]
  },
  {
   "cell_type": "code",
   "execution_count": 5,
   "metadata": {},
   "outputs": [
    {
     "data": {
      "text/plain": [
       "'All tests passed!'"
      ]
     },
     "execution_count": 5,
     "metadata": {},
     "output_type": "execute_result"
    }
   ],
   "source": [
    "class Casino:\n",
    "    __slots__ = [\"name\", \"location\", \"capacity\"]  # <<<\n",
    "\n",
    "    def __str__(self):\n",
    "        return f\"{self.name} in {self.location} with a capacity of {self.capacity:,d}\"\n",
    "\n",
    "\n",
    "## Tests\n",
    "mgm = Casino()\n",
    "mgm.name = \"Metro Goldwyn Mayer\"\n",
    "mgm.location = \"Las Vegas\"\n",
    "mgm.capacity = 1_000_000\n",
    "assert str(mgm) == \"Metro Goldwyn Mayer in Las Vegas with a capacity of 1,000,000\"\n",
    "\n",
    "try:\n",
    "    mgm.owner = \"me\"\n",
    "    raise AssertionError(\"You should not be able to add new attributes to a slot class\")\n",
    "except AttributeError:\n",
    "    pass\n",
    "\"All tests passed!\""
   ]
  },
  {
   "cell_type": "markdown",
   "metadata": {},
   "source": [
    "## Changing the Functionality\n",
    "\n",
    "Another cool thing that Python will do is allow us to specify how different operators work. One really neat trick is how the [`pathlib`](https://docs.python.org/3/library/pathlib.html) module will override the division operator `/` for path concatenation as this is the character that unix shells tend to use for file paths. This also makes code a lot easier to read compared to the `os` module.\n",
    "\n",
    "Which of these is easier to read?\n",
    "\n",
    "```py\n",
    "import os\n",
    "my_docs = os.path.join(os.path.expanduser(\"~\"), \"Documents\")\n",
    "```\n",
    "\n",
    "```py\n",
    "from pathlib import Path\n",
    "my_docs = Path.home()  / \"Documents\"\n",
    "```\n",
    "\n",
    "Modify `MyPath` to mimmic the behavior of `pathlib.Path`. (You only need to worry about the `/` operator for this one.)\n"
   ]
  },
  {
   "cell_type": "code",
   "execution_count": null,
   "metadata": {},
   "outputs": [],
   "source": [
    "class MyPath:\n",
    "\n",
    "    def __init__(self, path):\n",
    "        self.path = path\n",
    "\n",
    "    def __str__(self):\n",
    "        return self.path\n",
    "\n",
    "    def __truediv__(self, other):  # <<<\n",
    "        return MyPath(self.path + os.sep + other)  # <<<\n",
    "\n",
    "\n",
    "## Tests\n",
    "os_home = os.path.expanduser(\"~\")\n",
    "os_docs = os.path.join(os_home, \"Documents\")\n",
    "\n",
    "pl_home = Path.home()\n",
    "pl_docs = pl_home / \"Documents\"\n",
    "\n",
    "my_home = MyPath(os_home)\n",
    "my_docs = my_home / \"Documents\"\n",
    "\n",
    "assert str(os_home) == str(pl_home) == str(my_home)\n",
    "assert str(os_docs) == str(pl_docs) == str(my_docs)\n",
    "\"All tests passed!\""
   ]
  },
  {
   "cell_type": "markdown",
   "metadata": {},
   "source": [
    "Complete the `Money` class so that the main 4 math functions return values rounded to the nearest penny. (Once you've mastered Python, perhaps you can use your hard earned `Money` at the `Casino`?)\n"
   ]
  },
  {
   "cell_type": "code",
   "execution_count": null,
   "metadata": {},
   "outputs": [],
   "source": [
    "class Money(float):\n",
    "    \"\"\"Always round to the nearest penny.\"\"\"\n",
    "\n",
    "    def __init__(self, value: float) -> None:\n",
    "        self._value = value\n",
    "\n",
    "    @staticmethod\n",
    "    def round(func: Callable[[Any, float], float]):\n",
    "        def wrapper(self, other):\n",
    "            return round(func(self, other), 2)\n",
    "\n",
    "        return wrapper\n",
    "\n",
    "    @round\n",
    "    def __add__(self, other: float) -> float:  # <<< def add(self) -> float:\n",
    "        return self._value + other\n",
    "\n",
    "    @round\n",
    "    def __sub__(self, other: float) -> float:  # <<< def sub(self) -> float:\n",
    "        return self._value - other\n",
    "\n",
    "    @round\n",
    "    def __mul__(self, other: float) -> float:  # <<< def mul(self) -> float:\n",
    "        return self._value * other\n",
    "\n",
    "    @round\n",
    "    def __truediv__(self, other: float) -> float:  # <<< def div(self) -> float:\n",
    "        return self._value / other\n",
    "\n",
    "\n",
    "## Tests\n",
    "assert Money(1.234) + 2.345 == 3.58\n",
    "assert Money(1.234) - 2.345 == -1.11\n",
    "assert Money(1.234) * 2.345 == 2.89\n",
    "assert Money(1.234) / 2.345 == 0.53\n",
    "\"All tests passed!\""
   ]
  },
  {
   "cell_type": "markdown",
   "metadata": {},
   "source": [
    "One last example of overriding magic methods is to control the comparison between two objects.\n",
    "\n",
    "Below you see an example of an [`Enum`](https://docs.python.org/3/library/enum.html) class. `Enum`s are useful when you have a very specific set of values that won't change over the course of the runtime. Yeah, you can tecnically use a `dict` to hold a set of names and values, but `dict`s can be modified.\n",
    "\n",
    "One common place to see an `Enum` in use is with the [Flags in the `re` module](https://docs.python.org/3/library/re.html#flags).\n",
    "\n",
    "Update the `RPS` class so when two instances of the class are compared, a proper winner is determined."
   ]
  },
  {
   "cell_type": "code",
   "execution_count": 35,
   "metadata": {},
   "outputs": [
    {
     "data": {
      "text/plain": [
       "'All tests passed!'"
      ]
     },
     "execution_count": 35,
     "metadata": {},
     "output_type": "execute_result"
    }
   ],
   "source": [
    "# Rock Paper Scissors\n",
    "class RPS(Enum):\n",
    "    ROCK = auto()\n",
    "    PAPER = auto()\n",
    "    SCISSORS = auto()\n",
    "\n",
    "    def __gt__(self, other):  # <<< def func(self):\n",
    "        if self == RPS.ROCK and other == RPS.SCISSORS:  # <<< ...\n",
    "            return True  # <<<\n",
    "        if self == RPS.SCISSORS and other == RPS.PAPER:  # <<<\n",
    "            return True  # <<<\n",
    "        if self == RPS.PAPER and other == RPS.ROCK:  # <<<\n",
    "            return True  # <<<\n",
    "        return False  # <<<\n",
    "\n",
    "\n",
    "## Tests\n",
    "# Tests for determining the winner\n",
    "assert RPS.ROCK > RPS.SCISSORS\n",
    "assert RPS.SCISSORS > RPS.PAPER\n",
    "assert RPS.PAPER > RPS.ROCK\n",
    "\n",
    "# Tests for equality\n",
    "assert RPS.ROCK is RPS.ROCK\n",
    "assert RPS.SCISSORS is RPS.SCISSORS\n",
    "assert RPS.PAPER is RPS.PAPER\n",
    "\"All tests passed!\""
   ]
  },
  {
   "cell_type": "markdown",
   "metadata": {},
   "source": [
    "## Composition / Inheritance\n",
    "\n",
    "Python classes can inherit properties from a parent class or be composed from multiple classes.\n",
    "\n",
    "- Inheritance: A class with an **is a** relationship, e.g.: A `Canine` **is an** `Animal`\n",
    "- Composition: A class with a **has a** relationship, e.g.: A `Lion` **has an** `Wild` element and a `Feline` element.\n",
    "\n",
    "Alter the indicated lines (`# <<<`) do demonstrate proper inheritance and composition."
   ]
  },
  {
   "cell_type": "code",
   "execution_count": 33,
   "metadata": {},
   "outputs": [
    {
     "data": {
      "text/plain": [
       "'All tests passed!'"
      ]
     },
     "execution_count": 33,
     "metadata": {},
     "output_type": "execute_result"
    }
   ],
   "source": [
    "class Animal:\n",
    "\n",
    "    def __str__(self):\n",
    "        return f\"I'm walking on {self.surface} and going {self.sound}!\"\n",
    "\n",
    "\n",
    "class Domesticated:\n",
    "    surface = \"pavement\"\n",
    "\n",
    "\n",
    "class Wild:\n",
    "    surface = \"grass\"\n",
    "\n",
    "\n",
    "class Canine(Animal):  # <<< class canine: # <<<\n",
    "    sound = \"Woof\"\n",
    "\n",
    "\n",
    "class Feline(Animal):  # <<< class feline: # <<<\n",
    "    sound = \"Meow\"\n",
    "\n",
    "\n",
    "class Dog(Domesticated, Canine):  # <<< class Dog: # <<<\n",
    "    pass\n",
    "\n",
    "\n",
    "class Lion(Wild, Feline):  # <<< class Lion: # <<<\n",
    "    pass\n",
    "\n",
    "\n",
    "class IndoorOutdoorDomesticCat(  # <<<\n",
    "    Wild, Domesticated, Feline  # <<<\n",
    "):  # <<< class IndoorOutdoorDomesticCat: # <<<\n",
    "    pass\n",
    "\n",
    "\n",
    "## Tests\n",
    "dog = Dog()\n",
    "assert str(dog) == \"I'm walking on pavement and going Woof!\"\n",
    "assert len(Dog.__bases__) == 2\n",
    "\n",
    "lion = Lion()\n",
    "assert str(lion) == \"I'm walking on grass and going Meow!\"\n",
    "assert len(Lion.__bases__) == 2\n",
    "\n",
    "fluffy = IndoorOutdoorDomesticCat()\n",
    "assert str(fluffy) == \"I'm walking on grass and going Meow!\"\n",
    "assert len(IndoorOutdoorDomesticCat.__bases__) == 3\n",
    "\"All tests passed!\""
   ]
  },
  {
   "cell_type": "markdown",
   "metadata": {},
   "source": [
    "## Context Managers\n",
    "\n",
    "Python provides us ways to create a [context](https://docs.python.org/3/library/contextlib.html) within we can work. A tell tale sign that you're working in a context is when you see the [`with`](https://docs.python.org/3/reference/compound_stmts.html#with) keyword. The most common of these is basic file reading and writing.\n",
    "\n",
    "```py\n",
    "with open('my_file.txt', 'r') as fh:\n",
    "    fh.read()\n",
    "```\n",
    "\n",
    "The advantage of the context manager is to automatically perform some cleanup items. Otherwise, you might have some unexpected issues where a file or database connection isn't properly closed. Without a context manager, the above code block would look like:\n",
    "\n",
    "```py\n",
    "fh = open('my_file.txt', 'r')\n",
    "fh.read()\n",
    "fh.close()\n",
    "```\n",
    "\n",
    "Note, we didn't have to explicitly call `fh.close()` when we used the context manager.\n",
    "\n",
    "Update the `FileManager` below so it can act as a context manager.\n"
   ]
  },
  {
   "cell_type": "code",
   "execution_count": null,
   "metadata": {},
   "outputs": [],
   "source": [
    "class FileManager:\n",
    "\n",
    "    def __init__(self, filename):\n",
    "        self.filename = filename\n",
    "\n",
    "    def __enter__(self):  # <<< def func1(self):\n",
    "        self.file = open(self.filename, \"w\")\n",
    "        return self.file\n",
    "\n",
    "    def __exit__(self, exc_type, exc_value, exc_traceback):  # <<< def func2(self):\n",
    "        self.file.close()\n",
    "\n",
    "\n",
    "## Tests\n",
    "json_db = \"db.json\"\n",
    "with FileManager(\"test.txt\") as f:\n",
    "    f.write(\"Hello, world!\")\n",
    "\n",
    "assert Path(\"test.txt\").read_text() == \"Hello, world!\"\n",
    "\"All tests passed!\""
   ]
  },
  {
   "cell_type": "markdown",
   "metadata": {},
   "source": [
    "Congrats, you've learned a lot of ways to use classes! 🎉\n",
    "\n",
    "If you still have time, take a look into the [`dataclasses`](https://docs.python.org/3/library/dataclasses.html) module. It provides a lot of really great extra functionality for minimal work. For example, it defines the `__init__`, `__eq__`, and `__repr__` methods for us! You can also make an entire class read-only by decorating it with `@dataclass(frozen=True)`!\n",
    "\n",
    "If you still have time, create a copy of this file and try to update everything to use `dataclasses`."
   ]
  },
  {
   "cell_type": "code",
   "execution_count": 38,
   "metadata": {},
   "outputs": [
    {
     "name": "stdout",
     "output_type": "stream",
     "text": [
      "<__main__.Foo object at 0x7f32784b42d0>\n",
      "Bar(value=42)\n"
     ]
    }
   ],
   "source": [
    "class Foo:\n",
    "    def __init__(self, value):\n",
    "        self.value = value\n",
    "\n",
    "\n",
    "@dataclass\n",
    "class Bar:\n",
    "    value: int = 42\n",
    "\n",
    "\n",
    "foo = Foo(42)\n",
    "print(foo)\n",
    "\n",
    "bar = Bar(42)\n",
    "print(bar)"
   ]
  }
 ],
 "metadata": {
  "kernelspec": {
   "display_name": ".venv",
   "language": "python",
   "name": "python3"
  },
  "language_info": {
   "codemirror_mode": {
    "name": "ipython",
    "version": 3
   },
   "file_extension": ".py",
   "mimetype": "text/x-python",
   "name": "python",
   "nbconvert_exporter": "python",
   "pygments_lexer": "ipython3",
   "version": "3.11.0"
  }
 },
 "nbformat": 4,
 "nbformat_minor": 2
}
